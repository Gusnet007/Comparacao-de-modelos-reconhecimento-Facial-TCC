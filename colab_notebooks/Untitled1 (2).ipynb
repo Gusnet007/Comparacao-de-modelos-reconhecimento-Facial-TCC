{
  "nbformat": 4,
  "nbformat_minor": 0,
  "metadata": {
    "colab": {
      "provenance": []
    },
    "kernelspec": {
      "name": "python3",
      "display_name": "Python 3"
    },
    "language_info": {
      "name": "python"
    }
  },
  "cells": [
    {
      "cell_type": "markdown",
      "source": [
        "Bibliotecas"
      ],
      "metadata": {
        "id": "SSaDUN7N4BRn"
      }
    },
    {
      "cell_type": "code",
      "source": [
        "import glob\n",
        "import random\n",
        "import shutil\n",
        "import os\n",
        "from zipfile import ZipFile\n",
        "from pathlib import Path\n",
        "from google.colab import drive"
      ],
      "metadata": {
        "id": "jHpJnalw4DCe"
      },
      "execution_count": 9,
      "outputs": []
    },
    {
      "cell_type": "markdown",
      "source": [
        "Caminho das bases compactadas do Drive"
      ],
      "metadata": {
        "id": "b1JdSEOeY9bu"
      }
    },
    {
      "cell_type": "code",
      "source": [
        "drive.mount('/content/drive', force_remount=True)\n",
        "\n",
        "# Caminho do drive\n",
        "DATASET_PATH = Path(\"/content/drive/MyDrive/BASES_DADOS\")\n",
        "\n",
        "print(\"Existe?\", DATASET_PATH.exists(), DATASET_PATH)\n"
      ],
      "metadata": {
        "colab": {
          "base_uri": "https://localhost:8080/",
          "height": 356
        },
        "id": "c8mWC_wkSrn_",
        "outputId": "3fbe00b1-54a2-4749-a140-b414e02570fa"
      },
      "execution_count": 10,
      "outputs": [
        {
          "output_type": "error",
          "ename": "KeyboardInterrupt",
          "evalue": "",
          "traceback": [
            "\u001b[0;31m---------------------------------------------------------------------------\u001b[0m",
            "\u001b[0;31mKeyboardInterrupt\u001b[0m                         Traceback (most recent call last)",
            "\u001b[0;32m/tmp/ipython-input-43041171.py\u001b[0m in \u001b[0;36m<cell line: 0>\u001b[0;34m()\u001b[0m\n\u001b[0;32m----> 1\u001b[0;31m \u001b[0mdrive\u001b[0m\u001b[0;34m.\u001b[0m\u001b[0mmount\u001b[0m\u001b[0;34m(\u001b[0m\u001b[0;34m'/content/drive'\u001b[0m\u001b[0;34m,\u001b[0m \u001b[0mforce_remount\u001b[0m\u001b[0;34m=\u001b[0m\u001b[0;32mTrue\u001b[0m\u001b[0;34m)\u001b[0m\u001b[0;34m\u001b[0m\u001b[0;34m\u001b[0m\u001b[0m\n\u001b[0m\u001b[1;32m      2\u001b[0m \u001b[0;34m\u001b[0m\u001b[0m\n\u001b[1;32m      3\u001b[0m \u001b[0;31m# Caminho do drive\u001b[0m\u001b[0;34m\u001b[0m\u001b[0;34m\u001b[0m\u001b[0m\n\u001b[1;32m      4\u001b[0m \u001b[0mDATASET_PATH\u001b[0m \u001b[0;34m=\u001b[0m \u001b[0mPath\u001b[0m\u001b[0;34m(\u001b[0m\u001b[0;34m\"/content/drive/MyDrive/BASES_DADOS\"\u001b[0m\u001b[0;34m)\u001b[0m\u001b[0;34m\u001b[0m\u001b[0;34m\u001b[0m\u001b[0m\n\u001b[1;32m      5\u001b[0m \u001b[0;34m\u001b[0m\u001b[0m\n",
            "\u001b[0;32m/usr/local/lib/python3.12/dist-packages/google/colab/drive.py\u001b[0m in \u001b[0;36mmount\u001b[0;34m(mountpoint, force_remount, timeout_ms, readonly)\u001b[0m\n\u001b[1;32m     95\u001b[0m \u001b[0;32mdef\u001b[0m \u001b[0mmount\u001b[0m\u001b[0;34m(\u001b[0m\u001b[0mmountpoint\u001b[0m\u001b[0;34m,\u001b[0m \u001b[0mforce_remount\u001b[0m\u001b[0;34m=\u001b[0m\u001b[0;32mFalse\u001b[0m\u001b[0;34m,\u001b[0m \u001b[0mtimeout_ms\u001b[0m\u001b[0;34m=\u001b[0m\u001b[0;36m120000\u001b[0m\u001b[0;34m,\u001b[0m \u001b[0mreadonly\u001b[0m\u001b[0;34m=\u001b[0m\u001b[0;32mFalse\u001b[0m\u001b[0;34m)\u001b[0m\u001b[0;34m:\u001b[0m\u001b[0;34m\u001b[0m\u001b[0;34m\u001b[0m\u001b[0m\n\u001b[1;32m     96\u001b[0m   \u001b[0;34m\"\"\"Mount your Google Drive at the specified mountpoint path.\"\"\"\u001b[0m\u001b[0;34m\u001b[0m\u001b[0;34m\u001b[0m\u001b[0m\n\u001b[0;32m---> 97\u001b[0;31m   return _mount(\n\u001b[0m\u001b[1;32m     98\u001b[0m       \u001b[0mmountpoint\u001b[0m\u001b[0;34m,\u001b[0m\u001b[0;34m\u001b[0m\u001b[0;34m\u001b[0m\u001b[0m\n\u001b[1;32m     99\u001b[0m       \u001b[0mforce_remount\u001b[0m\u001b[0;34m=\u001b[0m\u001b[0mforce_remount\u001b[0m\u001b[0;34m,\u001b[0m\u001b[0;34m\u001b[0m\u001b[0;34m\u001b[0m\u001b[0m\n",
            "\u001b[0;32m/usr/local/lib/python3.12/dist-packages/google/colab/drive.py\u001b[0m in \u001b[0;36m_mount\u001b[0;34m(mountpoint, force_remount, timeout_ms, ephemeral, readonly)\u001b[0m\n\u001b[1;32m    132\u001b[0m   )\n\u001b[1;32m    133\u001b[0m   \u001b[0;32mif\u001b[0m \u001b[0mephemeral\u001b[0m\u001b[0;34m:\u001b[0m\u001b[0;34m\u001b[0m\u001b[0;34m\u001b[0m\u001b[0m\n\u001b[0;32m--> 134\u001b[0;31m     _message.blocking_request(\n\u001b[0m\u001b[1;32m    135\u001b[0m         \u001b[0;34m'request_auth'\u001b[0m\u001b[0;34m,\u001b[0m\u001b[0;34m\u001b[0m\u001b[0;34m\u001b[0m\u001b[0m\n\u001b[1;32m    136\u001b[0m         \u001b[0mrequest\u001b[0m\u001b[0;34m=\u001b[0m\u001b[0;34m{\u001b[0m\u001b[0;34m'authType'\u001b[0m\u001b[0;34m:\u001b[0m \u001b[0;34m'dfs_ephemeral'\u001b[0m\u001b[0;34m}\u001b[0m\u001b[0;34m,\u001b[0m\u001b[0;34m\u001b[0m\u001b[0;34m\u001b[0m\u001b[0m\n",
            "\u001b[0;32m/usr/local/lib/python3.12/dist-packages/google/colab/_message.py\u001b[0m in \u001b[0;36mblocking_request\u001b[0;34m(request_type, request, timeout_sec, parent)\u001b[0m\n\u001b[1;32m    174\u001b[0m       \u001b[0mrequest_type\u001b[0m\u001b[0;34m,\u001b[0m \u001b[0mrequest\u001b[0m\u001b[0;34m,\u001b[0m \u001b[0mparent\u001b[0m\u001b[0;34m=\u001b[0m\u001b[0mparent\u001b[0m\u001b[0;34m,\u001b[0m \u001b[0mexpect_reply\u001b[0m\u001b[0;34m=\u001b[0m\u001b[0;32mTrue\u001b[0m\u001b[0;34m\u001b[0m\u001b[0;34m\u001b[0m\u001b[0m\n\u001b[1;32m    175\u001b[0m   )\n\u001b[0;32m--> 176\u001b[0;31m   \u001b[0;32mreturn\u001b[0m \u001b[0mread_reply_from_input\u001b[0m\u001b[0;34m(\u001b[0m\u001b[0mrequest_id\u001b[0m\u001b[0;34m,\u001b[0m \u001b[0mtimeout_sec\u001b[0m\u001b[0;34m)\u001b[0m\u001b[0;34m\u001b[0m\u001b[0;34m\u001b[0m\u001b[0m\n\u001b[0m",
            "\u001b[0;32m/usr/local/lib/python3.12/dist-packages/google/colab/_message.py\u001b[0m in \u001b[0;36mread_reply_from_input\u001b[0;34m(message_id, timeout_sec)\u001b[0m\n\u001b[1;32m     94\u001b[0m     \u001b[0mreply\u001b[0m \u001b[0;34m=\u001b[0m \u001b[0m_read_next_input_message\u001b[0m\u001b[0;34m(\u001b[0m\u001b[0;34m)\u001b[0m\u001b[0;34m\u001b[0m\u001b[0;34m\u001b[0m\u001b[0m\n\u001b[1;32m     95\u001b[0m     \u001b[0;32mif\u001b[0m \u001b[0mreply\u001b[0m \u001b[0;34m==\u001b[0m \u001b[0m_NOT_READY\u001b[0m \u001b[0;32mor\u001b[0m \u001b[0;32mnot\u001b[0m \u001b[0misinstance\u001b[0m\u001b[0;34m(\u001b[0m\u001b[0mreply\u001b[0m\u001b[0;34m,\u001b[0m \u001b[0mdict\u001b[0m\u001b[0;34m)\u001b[0m\u001b[0;34m:\u001b[0m\u001b[0;34m\u001b[0m\u001b[0;34m\u001b[0m\u001b[0m\n\u001b[0;32m---> 96\u001b[0;31m       \u001b[0mtime\u001b[0m\u001b[0;34m.\u001b[0m\u001b[0msleep\u001b[0m\u001b[0;34m(\u001b[0m\u001b[0;36m0.025\u001b[0m\u001b[0;34m)\u001b[0m\u001b[0;34m\u001b[0m\u001b[0;34m\u001b[0m\u001b[0m\n\u001b[0m\u001b[1;32m     97\u001b[0m       \u001b[0;32mcontinue\u001b[0m\u001b[0;34m\u001b[0m\u001b[0;34m\u001b[0m\u001b[0m\n\u001b[1;32m     98\u001b[0m     if (\n",
            "\u001b[0;31mKeyboardInterrupt\u001b[0m: "
          ]
        }
      ]
    },
    {
      "cell_type": "code",
      "source": [
        "# caminho de cada base de dados\n",
        "BASES = {\n",
        "    \"WiderFace\": Path(\"/content/drive/MyDrive/BASES_DADOS/ORIGINAIS/wider_face.zip\"),\n",
        "    \"celebA\": Path(\"/content/drive/MyDrive/BASES_DADOS/ORIGINAIS/celeba.zip\"),\n",
        "    \"LFW\": Path(\"/content/drive/MyDrive/BASES_DADOS/ORIGINAIS/lfw.zip\"),\n",
        "    \"UTKFace1\": Path(\"/content/drive/MyDrive/BASES_DADOS/ORIGINAIS/utkface_part1.zip\"),\n",
        "    \"UTKFace2\": Path(\"/content/drive/MyDrive/BASES_DADOS/ORIGINAIS/utkface_part2.zip\"),\n",
        "    \"UTKFace3\": Path(\"/content/drive/MyDrive/BASES_DADOS/ORIGINAIS/utkface_part3.zip\")\n",
        "}\n",
        "\n",
        "for nome, z in BASES.items():\n",
        "    print(f\"{nome}: {z} -> existe? {z.exists()}\")"
      ],
      "metadata": {
        "id": "jA4XA_a7XfGW"
      },
      "execution_count": null,
      "outputs": []
    },
    {
      "cell_type": "markdown",
      "source": [
        "Extrair Bases"
      ],
      "metadata": {
        "id": "UosVO_nadHhV"
      }
    },
    {
      "cell_type": "code",
      "source": [
        "\n",
        "import zipfile, glob, shutil\n",
        "\n",
        "# caminho de extração\n",
        "DEST_BASE = Path(\"/content/Bases extraídas\")\n",
        "DEST_BASE.mkdir(parents=True, exist_ok=True)\n",
        "\n",
        "IMG_EXTS = (\".jpg\", \".jpeg\", \".png\", \".bmp\", \".tif\", \".tiff\", \".webp\")\n",
        "\n",
        "resultados = {}\n",
        "\n",
        "for nome, zip_path in BASES.items():\n",
        "    if not zip_path.exists():\n",
        "        print(f\"[{nome}] ❌ Não encontrado: {zip_path}\")\n",
        "        continue\n",
        "\n",
        "    out_dir = DEST_BASE / nome\n",
        "    if out_dir.exists():\n",
        "        shutil.rmtree(out_dir)\n",
        "    out_dir.mkdir(parents=True, exist_ok=True)\n",
        "\n",
        "    # extrair\n",
        "    print(f\"[{nome}] Extraindo {zip_path}...\")\n",
        "    with zipfile.ZipFile(zip_path, 'r') as zf:\n",
        "        zf.extractall(out_dir)\n",
        "\n",
        "    # contar imagens\n",
        "    padrao = str(out_dir / \"**\" / \"*\")\n",
        "    all_imgs = [f for f in glob.glob(padrao, recursive=True)\n",
        "                if f.lower().endswith(IMG_EXTS)]\n",
        "\n",
        "    resultados[nome] = {\"dir\": out_dir, \"n_imgs\": len(all_imgs)}\n",
        "    print(f\"[{nome}] Total de imagens: {len(all_imgs)}\")\n"
      ],
      "metadata": {
        "id": "lDx8PAI0ZN3e"
      },
      "execution_count": null,
      "outputs": []
    },
    {
      "cell_type": "markdown",
      "source": [
        "# WIDER FACE\n",
        "\n",
        "\n"
      ],
      "metadata": {
        "id": "Cr-Y039t3j-3"
      }
    },
    {
      "cell_type": "markdown",
      "source": [
        "Descompactar"
      ],
      "metadata": {
        "id": "JX0qzyrL9R4X"
      }
    },
    {
      "cell_type": "code",
      "source": [
        "# !unzip -q WIDER_test.zip\n",
        "\n",
        "all_images = glob.glob(\"Bases extraídas/WiderFace/WIDER_test/images/*/*.jpg\")\n",
        "print(\"Total de imagens:\", len(all_images))\n"
      ],
      "metadata": {
        "id": "3F6weQOe9WkX"
      },
      "execution_count": null,
      "outputs": []
    },
    {
      "cell_type": "code",
      "execution_count": null,
      "metadata": {
        "id": "iskXt7qj3csE"
      },
      "outputs": [],
      "source": [
        "# Selecionar 5.000 aleatórias\n",
        "sampled = random.sample(all_images, min(5000, len(all_images)))\n",
        "\n",
        "# Criar pasta\n",
        "subset_dir = \"WIDER_subset\"\n",
        "os.makedirs(subset_dir, exist_ok=True)\n",
        "\n",
        "# Copiar imagens\n",
        "for path in sampled:\n",
        "    shutil.copy(path, subset_dir)\n",
        "\n",
        "# Compactar\n",
        "zip_name = \"WIDER_subset.zip\"\n",
        "with ZipFile(zip_name, \"w\") as zipf:\n",
        "    for file in glob.glob(f\"{subset_dir}/*.jpg\"):\n",
        "        zipf.write(file, arcname=os.path.basename(file))\n",
        "\n",
        "print(\"✅ WIDER FACE zip criado:\", zip_name)\n"
      ]
    },
    {
      "cell_type": "markdown",
      "source": [
        "# celebA"
      ],
      "metadata": {
        "id": "guMoz6rT3q_G"
      }
    },
    {
      "cell_type": "code",
      "source": [
        "# !unzip -q img_align_celeba.zip\n",
        "\n",
        "all_images = glob.glob(\"Bases extraídas/celebA/img_align_celeba/*.jpg\")\n",
        "print(\"Total de imagens:\", len(all_images))"
      ],
      "metadata": {
        "id": "k5ug9F3zIulw"
      },
      "execution_count": null,
      "outputs": []
    },
    {
      "cell_type": "code",
      "source": [
        "# Selecionar 5.000 aleatórias\n",
        "sampled = random.sample(all_images, min(5000, len(all_images)))\n",
        "\n",
        "# Criar pasta\n",
        "subset_dir = \"CelebA_subset\"\n",
        "os.makedirs(subset_dir, exist_ok=True)\n",
        "\n",
        "# Copiar imagens\n",
        "for path in sampled:\n",
        "    shutil.copy(path, subset_dir)\n",
        "\n",
        "# Compactar\n",
        "zip_name = \"CelebA_subset.zip\"\n",
        "with ZipFile(zip_name, \"w\") as zipf:\n",
        "    for file in glob.glob(f\"{subset_dir}/*.jpg\"):\n",
        "        zipf.write(file, arcname=os.path.basename(file))\n",
        "\n",
        "print(\"✅ CelebA zip criado:\", zip_name)\n"
      ],
      "metadata": {
        "id": "kaNB6o-m30vW"
      },
      "execution_count": null,
      "outputs": []
    },
    {
      "cell_type": "markdown",
      "source": [],
      "metadata": {
        "id": "YMCigXQb3s_P"
      }
    },
    {
      "cell_type": "markdown",
      "source": [
        "# LFW"
      ],
      "metadata": {
        "id": "18Ql2TYm3uEG"
      }
    },
    {
      "cell_type": "code",
      "source": [
        "# !unzip -q lfw_test.zip\n",
        "\n",
        "all_images = glob.glob(\"Bases extraídas/LFW/lfw-deepfunneled/*/*.jpg\")\n",
        "print(\"Total de imagens:\", len(all_images))"
      ],
      "metadata": {
        "id": "ePWuMc2FYOUJ"
      },
      "execution_count": null,
      "outputs": []
    },
    {
      "cell_type": "code",
      "source": [
        "# Selecionar 5.000 aleatórias\n",
        "sampled = random.sample(all_images, min(5000, len(all_images)))\n",
        "\n",
        "# Criar pasta separada\n",
        "subset_dir = \"LFW_subset\"\n",
        "os.makedirs(subset_dir, exist_ok=True)\n",
        "\n",
        "# Copiar\n",
        "for path in sampled:\n",
        "    shutil.copy(path, subset_dir)\n",
        "\n",
        "# Compactar\n",
        "zip_name = \"LFW_subset.zip\"\n",
        "with ZipFile(zip_name, \"w\") as zipf:\n",
        "    for file in glob.glob(f\"{subset_dir}/*.jpg\"):\n",
        "        zipf.write(file, arcname=os.path.basename(file))\n",
        "\n",
        "print(f\"Zip criado: {zip_name}\")\n"
      ],
      "metadata": {
        "id": "IjSuCnrx3wbe"
      },
      "execution_count": null,
      "outputs": []
    },
    {
      "cell_type": "markdown",
      "source": [
        "# UTKFace"
      ],
      "metadata": {
        "id": "WSklPBie3xMu"
      }
    },
    {
      "cell_type": "code",
      "source": [
        "# !unzip -q part1.zip\n",
        "# !unzip -q part2.zip\n",
        "# !unzip -q part3.zip\n",
        "\n",
        "all_images = glob.glob(\"Bases extraídas/UTKFace1/part1/*.jpg\") + glob.glob(\"Bases extraídas/UTKFace2/part2/*.jpg\") + glob.glob(\"Bases extraídas/UTKFace3/part3/*.jpg\")\n",
        "print(\"Total de imagens:\", len(all_images))"
      ],
      "metadata": {
        "id": "QGh22QOxefNJ"
      },
      "execution_count": null,
      "outputs": []
    },
    {
      "cell_type": "code",
      "source": [
        "\n",
        "# Selecionar 5.000 aleatórias\n",
        "sampled = random.sample(all_images, min(5000, len(all_images)))\n",
        "\n",
        "# Criar pasta\n",
        "subset_dir = \"UTKFace_subset\"\n",
        "os.makedirs(subset_dir, exist_ok=True)\n",
        "\n",
        "# Copiar imagens\n",
        "for path in sampled:\n",
        "    shutil.copy(path, subset_dir)\n",
        "\n",
        "# Compactar\n",
        "zip_name = \"UTKFace_subset.zip\"\n",
        "with ZipFile(zip_name, \"w\") as zipf:\n",
        "    for file in glob.glob(f\"{subset_dir}/*.jpg\"):\n",
        "        zipf.write(file, arcname=os.path.basename(file))\n",
        "\n",
        "print(\"✅ UTKFace zip criado:\", zip_name)\n"
      ],
      "metadata": {
        "id": "YEB-fF1K30ln"
      },
      "execution_count": null,
      "outputs": []
    }
  ]
}